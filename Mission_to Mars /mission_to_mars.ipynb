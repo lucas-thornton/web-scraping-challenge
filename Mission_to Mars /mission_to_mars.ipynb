{
 "cells": [
  {
   "cell_type": "code",
   "execution_count": 217,
   "metadata": {},
   "outputs": [],
   "source": [
    "import os\n",
    "from  bs4 import BeautifulSoup as bs\n",
    "import requests\n",
    "from splinter import Browser\n",
    "from webdriver_manager.chrome import ChromeDriverManager\n",
    "import time\n",
    "import pandas as pd\n",
    "import pymongo"
   ]
  },
  {
   "cell_type": "code",
   "execution_count": 127,
   "metadata": {},
   "outputs": [],
   "source": [
    "url = 'https://mars.nasa.gov/news/?page=0&per_page=40&order=publish_date+desc%2Ccreated_at+desc&search=&category=19%2C165%2C184%2C204&blank_scope=Latest'"
   ]
  },
  {
   "cell_type": "code",
   "execution_count": 128,
   "metadata": {},
   "outputs": [],
   "source": [
    "\n",
    "response = requests.get(url)"
   ]
  },
  {
   "cell_type": "code",
   "execution_count": 129,
   "metadata": {},
   "outputs": [],
   "source": [
    "soup = bs(response.text, 'html.parser')"
   ]
  },
  {
   "cell_type": "code",
   "execution_count": 104,
   "metadata": {
    "tags": [
     "outputPrepend"
    ]
   },
   "outputs": [
    {
     "output_type": "stream",
     "name": "stdout",
     "text": "quot;:null,&quot;gallery_subnav_link&quot;:&quot;https://mars.nasa.gov/odyssey/&quot;}],&quot;search&quot;:true,&quot;search_placeholder&quot;:{&quot;placeholder&quot;:&quot;&quot;},&quot;highlight_current&quot;:{&quot;highlight&quot;:true,&quot;current_id&quot;:83,&quot;parent_ids&quot;:[]},&quot;search_submit&quot;:&quot;/search/&quot;}\">\n         </nav>\n        </div>\n       </div>\n      </div>\n     </header>\n    </div>\n    <div id=\"sticky_nav_spacer\">\n    </div>\n    <div id=\"page\">\n     <div class=\"page_cover\">\n     </div>\n     <!-- title to go in the page_header -->\n     <div class=\"header_mask\">\n      <section class=\"content_page module\">\n      </section>\n     </div>\n     <div class=\"grid_list_page module content_page\">\n      <div class=\"grid_layout\">\n       <article>\n        <header id=\"page_header\">\n        </header>\n        <div class=\"react_grid_list grid_list_container\" data-react-cache-id=\"GridListPage-0\" data-react-class=\"GridListPage\" data-react-props='{\"left_column\":false,\"class_name\":\"\",\"default_view\":\"list_view\",\"model\":\"news_items\",\"view_toggle\":false,\"search\":\"true\",\"list_item\":\"News\",\"title\":\"News\",\"categories\":[\"19,165,184,204\"],\"order\":\"publish_date desc,created_at desc\",\"no_items_text\":\"There are no items matching these criteria.\",\"site_title\":\"NASA’s Mars Exploration Program \",\"short_title\":\"Mars\",\"site_share_image\":\"/system/site_config_values/meta_share_images/1_mars-nasa-gov.jpg\",\"per_page\":null,\"filters\":\"[ [ \\\"date\\\", [ [ \\\"2020\\\", \\\"2020\\\" ], [ \\\"2019\\\", \\\"2019\\\" ], [ \\\"2018\\\", \\\"2018\\\" ], [ \\\"2017\\\", \\\"2017\\\" ], [ \\\"2016\\\", \\\"2016\\\" ], [ \\\"2015\\\", \\\"2015\\\" ], [ \\\"2014\\\", \\\"2014\\\" ], [ \\\"2013\\\", \\\"2013\\\" ], [ \\\"2012\\\", \\\"2012\\\" ], [ \\\"2011\\\", \\\"2011\\\" ], [ \\\"2010\\\", \\\"2010\\\" ], [ \\\"2009\\\", \\\"2009\\\" ], [ \\\"2008\\\", \\\"2008\\\" ], [ \\\"2007\\\", \\\"2007\\\" ], [ \\\"2006\\\", \\\"2006\\\" ], [ \\\"2005\\\", \\\"2005\\\" ], [ \\\"2004\\\", \\\"2004\\\" ], [ \\\"2003\\\", \\\"2003\\\" ], [ \\\"2002\\\", \\\"2002\\\" ], [ \\\"2001\\\", \\\"2001\\\" ], [ \\\"2000\\\", \\\"2000\\\" ] ], [ \\\"Latest\\\", \\\"\\\" ], false ], [ \\\"categories\\\", [ [ \\\"Feature Stories\\\", 165 ], [ \\\"Press Releases\\\", 19 ], [ \\\"Spotlights\\\", 184 ], [ \\\"Status Reports\\\", 204 ] ], [ \\\"All Categories\\\", \\\"\\\" ], false ] ]\",\"conditions\":null,\"scope_in_title\":true,\"options\":{\"blank_scope\":\"Latest\"},\"results_in_title\":false}'>\n        </div>\n       </article>\n      </div>\n     </div>\n     <section class=\"module suggested_features\">\n      <div class=\"grid_layout\">\n       <header>\n        <h2 class=\"module_title\">\n         You Might Also Like\n        </h2>\n       </header>\n       <section>\n        <script>\n         $(document).ready(function(){\n    $(\".features\").slick({\n      dots: false,\n      infinite: true,\n      speed: 300,\n      slide: '.features .slide',\n      slidesToShow: 3,\n      slidesToScroll: 3,\n      lazyLoad: 'ondemand',\n      centerMode: false,\n      arrows: true,\n      appendArrows: '.features .slick-nav',\n      appendDots: \".features .slick-nav\",\n      responsive: [{\"breakpoint\":953,\"settings\":{\"slidesToShow\":2,\"slidesToScroll\":2,\"centerMode\":false}},{\"breakpoint\":480,\"settings\":{\"slidesToShow\":1,\"slidesToScroll\":1,\"centerMode\":true,\"arrows\":false,\"centerPadding\":\"25px\"}}]\n    });\n  });\n        </script>\n        <div class=\"features\">\n         <div class=\"slide\">\n          <div class=\"image_and_description_container\">\n           <a href=\"/news/8716/nasa-to-broadcast-mars-2020-perseverance-launch-prelaunch-activities/\">\n            <div class=\"rollover_description\">\n             <div class=\"rollover_description_inner\">\n              Starting July 27, news activities will cover everything from mission engineering and science to returning samples from Mars to, of course, the launch itself.\n             </div>\n             <div class=\"overlay_arrow\">\n              <img alt=\"More\" src=\"/assets/overlay-arrow.png\"/>\n             </div>\n            </div>\n            <img alt=\"NASA to Broadcast Mars 2020 Perseverance Launch, Prelaunch Activities\" class=\"img-lazy\" data-lazy=\"/system/news_items/list_view_images/8716_PIA23499-320x240.jpg\" src=\"/assets/loading_320x240.png\"/>\n           </a>\n          </div>\n          <div class=\"content_title\">\n           <a href=\"/news/8716/nasa-to-broadcast-mars-2020-perseverance-launch-prelaunch-activities/\">\n            NASA to Broadcast Mars 2020 Perseverance Launch, Prelaunch Activities\n           </a>\n          </div>\n         </div>\n         <div class=\"slide\">\n          <div class=\"image_and_description_container\">\n           <a href=\"/news/8695/the-launch-is-approaching-for-nasas-next-mars-rover-perseverance/\">\n            <div class=\"rollover_description\">\n             <div class=\"rollover_description_inner\">\n              The Red Planet's surface has been visited by eight NASA spacecraft. The ninth will be the first that includes a roundtrip ticket in its flight plan.\n             </div>\n             <div class=\"overlay_arrow\">\n              <img alt=\"More\" src=\"/assets/overlay-arrow.png\"/>\n             </div>\n            </div>\n            <img alt=\"The Launch Is Approaching for NASA's Next Mars Rover, Perseverance\" class=\"img-lazy\" data-lazy=\"/system/news_items/list_view_images/8695_24732_PIA23499-226.jpg\" src=\"/assets/loading_320x240.png\"/>\n           </a>\n          </div>\n          <div class=\"content_title\">\n           <a href=\"/news/8695/the-launch-is-approaching-for-nasas-next-mars-rover-perseverance/\">\n            The Launch Is Approaching for NASA's Next Mars Rover, Perseverance\n           </a>\n          </div>\n         </div>\n         <div class=\"slide\">\n          <div class=\"image_and_description_container\">\n           <a href=\"/news/8692/nasa-to-hold-mars-2020-perseverance-rover-launch-briefing/\">\n            <div class=\"rollover_description\">\n             <div class=\"rollover_description_inner\">\n              Learn more about the agency's next Red Planet mission during a live event on June 17.\n             </div>\n             <div class=\"overlay_arrow\">\n              <img alt=\"More\" src=\"/assets/overlay-arrow.png\"/>\n             </div>\n            </div>\n            <img alt=\"NASA to Hold Mars 2020 Perseverance Rover Launch Briefing\" class=\"img-lazy\" data-lazy=\"/system/news_items/list_view_images/8692_PIA23920-320x240.jpg\" src=\"/assets/loading_320x240.png\"/>\n           </a>\n          </div>\n          <div class=\"content_title\">\n           <a href=\"/news/8692/nasa-to-hold-mars-2020-perseverance-rover-launch-briefing/\">\n            NASA to Hold Mars 2020 Perseverance Rover Launch Briefing\n           </a>\n          </div>\n         </div>\n         <div class=\"slide\">\n          <div class=\"image_and_description_container\">\n           <a href=\"/news/8659/alabama-high-school-student-names-nasas-mars-helicopter/\">\n            <div class=\"rollover_description\">\n             <div class=\"rollover_description_inner\">\n              Vaneeza Rupani's essay was chosen as the name for the small spacecraft, which will mark NASA's first attempt at powered flight on another planet.\n             </div>\n             <div class=\"overlay_arrow\">\n              <img alt=\"More\" src=\"/assets/overlay-arrow.png\"/>\n             </div>\n            </div>\n            <img alt=\"Alabama High School Student Names NASA's Mars Helicopter\" class=\"img-lazy\" data-lazy=\"/system/news_items/list_view_images/8659_1-PIA23883-MAIN-320x240.jpg\" src=\"/assets/loading_320x240.png\"/>\n           </a>\n          </div>\n          <div class=\"content_title\">\n           <a href=\"/news/8659/alabama-high-school-student-names-nasas-mars-helicopter/\">\n            Alabama High School Student Names NASA's Mars Helicopter\n           </a>\n          </div>\n         </div>\n         <div class=\"slide\">\n          <div class=\"image_and_description_container\">\n           <a href=\"/news/8645/mars-helicopter-attached-to-nasas-perseverance-rover/\">\n            <div class=\"rollover_description\">\n             <div class=\"rollover_description_inner\">\n              The team also fueled the rover's sky crane to get ready for this summer's history-making launch.\n             </div>\n             <div class=\"overlay_arrow\">\n              <img alt=\"More\" src=\"/assets/overlay-arrow.png\"/>\n             </div>\n            </div>\n            <img alt=\"Mars Helicopter Attached to NASA's Perseverance Rover\" class=\"img-lazy\" data-lazy=\"/system/news_items/list_view_images/8645_PIA23824-RoverWithHelicopter-32x24.jpg\" src=\"/assets/loading_320x240.png\"/>\n           </a>\n          </div>\n          <div class=\"content_title\">\n           <a href=\"/news/8645/mars-helicopter-attached-to-nasas-perseverance-rover/\">\n            Mars Helicopter Attached to NASA's Perseverance Rover\n           </a>\n          </div>\n         </div>\n         <div class=\"slide\">\n          <div class=\"image_and_description_container\">\n           <a href=\"/news/8641/nasas-perseverance-mars-rover-gets-its-wheels-and-air-brakes/\">\n            <div class=\"rollover_description\">\n             <div class=\"rollover_description_inner\">\n              After the rover was shipped from JPL to Kennedy Space Center, the team is getting closer to finalizing the spacecraft for launch later this summer.\n             </div>\n             <div class=\"overlay_arrow\">\n              <img alt=\"More\" src=\"/assets/overlay-arrow.png\"/>\n             </div>\n            </div>\n            <img alt=\"NASA's Perseverance Mars Rover Gets Its Wheels and Air Brakes\" class=\"img-lazy\" data-lazy=\"/system/news_items/list_view_images/8641_PIA-23821-320x240.jpg\" src=\"/assets/loading_320x240.png\"/>\n           </a>\n          </div>\n          <div class=\"content_title\">\n           <a href=\"/news/8641/nasas-perseverance-mars-rover-gets-its-wheels-and-air-brakes/\">\n            NASA's Perseverance Mars Rover Gets Its Wheels and Air Brakes\n           </a>\n          </div>\n         </div>\n         <div class=\"grid_layout\">\n          <div class=\"slick-nav_container\">\n           <div class=\"slick-nav\">\n           </div>\n          </div>\n         </div>\n        </div>\n       </section>\n      </div>\n     </section>\n    </div>\n    <footer id=\"site_footer\">\n     <div class=\"grid_layout\">\n      <section class=\"upper_footer\">\n       <div class=\"share_newsletter_container\">\n        <div class=\"newsletter\">\n         <h2>\n          Get the Mars Newsletter\n         </h2>\n         <form action=\"/newsletter-subscribe\">\n          <input id=\"email\" name=\"email\" placeholder=\"enter email address\" type=\"email\" value=\"\"/>\n          <input data-disable-with=\"\" name=\"commit\" type=\"submit\" value=\"\"/>\n         </form>\n        </div>\n        <div class=\"share\">\n         <h2>\n          Follow the Journey\n         </h2>\n         <div class=\"social_icons\">\n          <!-- AddThis Button BEGIN -->\n          <div class=\"addthis_toolbox addthis_default_style addthis_32x32_style\">\n           <a addthis:userid=\"MarsCuriosity\" class=\"addthis_button_twitter_follow icon\">\n            <img alt=\"twitter\" src=\"/assets/twitter_icon@2x.png\"/>\n           </a>\n           <a addthis:userid=\"MarsCuriosity\" class=\"addthis_button_facebook_follow icon\">\n            <img alt=\"facebook\" src=\"/assets/facebook_icon@2x.png\"/>\n           </a>\n           <a addthis:userid=\"nasa\" class=\"addthis_button_instagram_follow icon\">\n            <img alt=\"instagram\" src=\"/assets/instagram_icon@2x.png\"/>\n           </a>\n           <a addthis:url=\"https://mars.nasa.gov/rss/api/?feed=news&amp;category=all&amp;feedtype=rss\" class=\"addthis_button_rss_follow icon\">\n            <img alt=\"rss\" src=\"/assets/rss_icon@2x.png\"/>\n           </a>\n          </div>\n         </div>\n         <script src=\"//s7.addthis.com/js/300/addthis_widget.js#pubid=ra-5a690e4c1320e328\">\n         </script>\n        </div>\n       </div>\n       <div class=\"gradient_line\">\n       </div>\n      </section>\n      <section class=\"sitemap\">\n       <div class=\"sitemap_directory\" id=\"sitemap_directory\">\n        <div class=\"sitemap_block\">\n         <div class=\"footer_sitemap_item\">\n          <h3 class=\"sitemap_title\">\n           <a href=\"/#red_planet\">\n            The Red Planet\n           </a>\n          </h3>\n          <ul>\n           <li>\n            <div class=\"global_subnav_container\">\n             <ul class=\"subnav\">\n              <li>\n               <a href=\"/#red_planet/0\" target=\"_self\">\n                Dashboard\n               </a>\n              </li>\n              <li>\n               <a href=\"/#red_planet/1\" target=\"_self\">\n                Science Goals\n               </a>\n              </li>\n              <li>\n               <a href=\"/#red_planet/2\" target=\"_self\">\n                The Planet\n               </a>\n              </li>\n              <li>\n               <a href=\"/#red_planet/3\" target=\"_self\">\n                Atmosphere\n               </a>\n              </li>\n              <li>\n               <a href=\"/#red_planet/4\" target=\"_self\">\n                Astrobiology\n               </a>\n              </li>\n              <li>\n               <a href=\"/#red_planet/5\" target=\"_self\">\n                Past, Present, Future, Timeline\n               </a>\n              </li>\n             </ul>\n            </div>\n           </li>\n          </ul>\n         </div>\n        </div>\n        <div class=\"sitemap_block\">\n         <div class=\"footer_sitemap_item\">\n          <h3 class=\"sitemap_title\">\n           <a href=\"/#mars_exploration_program\">\n            The Program\n           </a>\n          </h3>\n          <ul>\n           <li>\n            <div class=\"global_subnav_container\">\n             <ul class=\"subnav\">\n              <li>\n               <a href=\"/#mars_exploration_program/0\" target=\"_self\">\n                Mission Statement\n               </a>\n              </li>\n              <li>\n               <a href=\"/#mars_exploration_program/1\" target=\"_self\">\n                About the Program\n               </a>\n              </li>\n              <li>\n               <a href=\"/#mars_exploration_program/2\" target=\"_self\">\n                Organization\n               </a>\n              </li>\n              <li>\n               <a href=\"/#mars_exploration_program/3\" target=\"_self\">\n                Why Mars?\n               </a>\n              </li>\n              <li>\n               <a href=\"/#mars_exploration_program/4\" target=\"_self\">\n                Research Programs\n               </a>\n              </li>\n              <li>\n               <a href=\"/#mars_exploration_program/5\" target=\"_self\">\n                Planetary Resources\n               </a>\n              </li>\n              <li>\n               <a href=\"/#mars_exploration_program/6\" target=\"_self\">\n                Technologies\n               </a>\n              </li>\n             </ul>\n            </div>\n           </li>\n          </ul>\n         </div>\n        </div>\n        <div class=\"sitemap_block\">\n         <div class=\"footer_sitemap_item\">\n          <h3 class=\"sitemap_title\">\n           <a href=\"/#news_and_events\">\n            News &amp; Events\n           </a>\n          </h3>\n          <ul>\n           <li>\n            <div class=\"global_subnav_container\">\n             <ul class=\"subnav\">\n              <li>\n               <a href=\"/news\" target=\"_self\">\n                News\n               </a>\n              </li>\n              <li>\n               <a href=\"/events\" target=\"_self\">\n                Events\n               </a>\n              </li>\n             </ul>\n            </div>\n           </li>\n          </ul>\n         </div>\n        </div>\n        <div class=\"sitemap_block\">\n         <div class=\"footer_sitemap_item\">\n          <h3 class=\"sitemap_title\">\n           <a href=\"/#multimedia\">\n            Multimedia\n           </a>\n          </h3>\n          <ul>\n           <li>\n            <div class=\"global_subnav_container\">\n             <ul class=\"subnav\">\n              <li>\n               <a href=\"/multimedia/images/\" target=\"_self\">\n                Images\n               </a>\n              </li>\n              <li>\n               <a href=\"/multimedia/videos/\" target=\"_self\">\n                Videos\n               </a>\n              </li>\n              <li>\n               <a href=\"/multimedia/more-resources/\" target=\"_self\">\n                More Resources\n               </a>\n              </li>\n             </ul>\n            </div>\n           </li>\n          </ul>\n         </div>\n        </div>\n        <div class=\"sitemap_block\">\n         <div class=\"footer_sitemap_item\">\n          <h3 class=\"sitemap_title\">\n           <a href=\"/#missions_gallery_subnav\">\n            Missions\n           </a>\n          </h3>\n          <ul>\n           <li>\n            <div class=\"global_subnav_container\">\n             <ul class=\"subnav\">\n              <li>\n               <a href=\"/mars-exploration/missions/?category=167\" target=\"_self\">\n                Past\n               </a>\n              </li>\n              <li>\n               <a href=\"/mars-exploration/missions/?category=170\" target=\"_self\">\n                Present\n               </a>\n              </li>\n              <li>\n               <a href=\"/mars-exploration/missions/?category=171\" target=\"_self\">\n                Future\n               </a>\n              </li>\n              <li>\n               <a href=\"/mars-exploration/partners\" target=\"_self\">\n                International Partners\n               </a>\n              </li>\n             </ul>\n            </div>\n           </li>\n          </ul>\n         </div>\n        </div>\n        <div class=\"sitemap_block\">\n         <div class=\"footer_sitemap_item\">\n          <h3 class=\"sitemap_title\">\n           <a href=\"/#more\">\n            More\n           </a>\n          </h3>\n          <ul>\n           <li>\n            <div class=\"global_subnav_container\">\n             <ul class=\"subnav\">\n             </ul>\n            </div>\n           </li>\n          </ul>\n         </div>\n        </div>\n       </div>\n       <div class=\"gradient_line\">\n       </div>\n      </section>\n      <section class=\"lower_footer\">\n       <div class=\"nav_container\">\n        <nav>\n         <ul>\n          <li>\n           <a href=\"http://science.nasa.gov/\" target=\"_blank\">\n            NASA Science Mission Directorate\n           </a>\n          </li>\n          <li>\n           <a href=\"https://www.jpl.nasa.gov/copyrights.php\" target=\"_blank\">\n            Privacy\n           </a>\n          </li>\n          <li>\n           <a href=\"http://www.jpl.nasa.gov/imagepolicy/\" target=\"_blank\">\n            Image Policy\n           </a>\n          </li>\n          <li>\n           <a href=\"https://mars.nasa.gov/feedback/\" target=\"_self\">\n            Feedback\n           </a>\n          </li>\n         </ul>\n        </nav>\n       </div>\n       <div class=\"credits\">\n        <div class=\"footer_brands_top\">\n         <p>\n          Managed by the Mars Exploration Program and the Jet Propulsion Laboratory for NASA’s Science Mission Directorate\n         </p>\n        </div>\n        <!-- .footer_brands -->\n        <!-- %a.jpl{href: \"\", target: \"_blank\"}Institution -->\n        <!-- -->\n        <!-- %a.caltech{href: \"\", target: \"_blank\"}Institution -->\n        <!-- .staff -->\n        <!-- %p -->\n        <!-- - get_staff_for_category(get_field_from_admin_config(:web_staff_category_id)) -->\n        <!-- - @staff.each_with_index do |staff, idx| -->\n        <!-- - unless staff.is_in_footer == 0 -->\n        <!-- = staff.title + \": \" -->\n        <!-- - if staff.contact_link =~ /@/ -->\n        <!-- = mail_to staff.contact_link, staff.name, :subject => \"[#{@site_title}]\" -->\n        <!-- - elsif staff.contact_link.present? -->\n        <!-- = link_to staff.name, staff.contact_link -->\n        <!-- - else -->\n        <!-- = staff.name -->\n        <!-- - unless (idx + 1 == @staff.size) -->\n        <!-- %br -->\n       </div>\n      </section>\n     </div>\n    </footer>\n   </div>\n  </div>\n  <script id=\"_fed_an_ua_tag\" src=\"https://dap.digitalgov.gov/Universal-Federated-Analytics-Min.js?agency=NASA&amp;subagency=JPL-Mars-MEPJPL&amp;pua=UA-9453474-9,UA-118212757-11&amp;dclink=true&amp;sp=searchbox&amp;exts=tif,tiff,wav\" type=\"text/javascript\">\n  </script>\n </body>\n</html>\n\n"
    }
   ],
   "source": [
    "print(soup.prettify())"
   ]
  },
  {
   "cell_type": "code",
   "execution_count": 130,
   "metadata": {},
   "outputs": [
    {
     "output_type": "execute_result",
     "data": {
      "text/plain": "'NASA to Broadcast Mars 2020 Perseverance Launch, Prelaunch Activities'"
     },
     "metadata": {},
     "execution_count": 130
    }
   ],
   "source": [
    "title = soup.find(class_='content_title').a\n",
    "title_ref = title.text.strip()\n",
    "title_ref"
   ]
  },
  {
   "cell_type": "code",
   "execution_count": 72,
   "metadata": {
    "tags": []
   },
   "outputs": [
    {
     "output_type": "stream",
     "name": "stderr",
     "text": "[WDM] - Current google-chrome version is 85.0.4183\n[WDM] - Get LATEST driver version for 85.0.4183\n \n[WDM] - Driver [/Users/lucasthornton/.wdm/drivers/chromedriver/mac64/85.0.4183.87/chromedriver] found in cache\n"
    }
   ],
   "source": [
    "executable_path = {'executable_path':ChromeDriverManager().install()}\n",
    "browser = Browser('chrome', **executable_path, headless=False)"
   ]
  },
  {
   "cell_type": "code",
   "execution_count": 131,
   "metadata": {},
   "outputs": [],
   "source": [
    "browser.visit(url)\n",
    "time.sleep(1)\n",
    "html = browser.html\n",
    "soup = bs(html, \"html.parser\")\n",
    "para = soup.find(class_='article_teaser_body')\n"
   ]
  },
  {
   "cell_type": "code",
   "execution_count": 133,
   "metadata": {},
   "outputs": [
    {
     "output_type": "execute_result",
     "data": {
      "text/plain": "'An electronics issue is suspected to be preventing the sensors from sharing their data about Mars weather with the spacecraft.'"
     },
     "metadata": {},
     "execution_count": 133
    }
   ],
   "source": [
    "para = soup.find(class_='article_teaser_body')\n",
    "para_ref = para.text\n",
    "para_ref"
   ]
  },
  {
   "cell_type": "markdown",
   "metadata": {
    "tags": []
   },
   "source": []
  },
  {
   "cell_type": "code",
   "execution_count": 134,
   "metadata": {},
   "outputs": [],
   "source": [
    "url_mars = 'https://www.jpl.nasa.gov/spaceimages/?search=&category=Mars'\n",
    "browser.visit(url_mars)\n",
    "browser.find_by_id('full_image').click()\n",
    "\n"
   ]
  },
  {
   "cell_type": "code",
   "execution_count": 135,
   "metadata": {},
   "outputs": [],
   "source": [
    "time.sleep(1)\n",
    "html = browser.html\n",
    "soup = bs(html, \"html.parser\")\n"
   ]
  },
  {
   "cell_type": "code",
   "execution_count": 137,
   "metadata": {},
   "outputs": [
    {
     "output_type": "execute_result",
     "data": {
      "text/plain": "'/spaceimages/images/wallpaper/PIA24077-640x350.jpg'"
     },
     "metadata": {},
     "execution_count": 137
    }
   ],
   "source": [
    "relative_image_path = soup.find_all('img')[3]['src']\n",
    "relative_image_path"
   ]
  },
  {
   "cell_type": "code",
   "execution_count": 139,
   "metadata": {},
   "outputs": [
    {
     "output_type": "execute_result",
     "data": {
      "text/plain": "'https://www.jpl.nasa.gov/spaceimages/images/wallpaper/PIA24077-640x350.jpg'"
     },
     "metadata": {},
     "execution_count": 139
    }
   ],
   "source": [
    " base_url = 'https://www.jpl.nasa.gov'\n",
    " image_url = base_url + relative_image_path\n",
    " image_url"
   ]
  },
  {
   "cell_type": "code",
   "execution_count": 142,
   "metadata": {},
   "outputs": [
    {
     "output_type": "execute_result",
     "data": {
      "text/plain": "[                      0                              1\n 0  Equatorial Diameter:                       6,792 km\n 1       Polar Diameter:                       6,752 km\n 2                 Mass:  6.39 × 10^23 kg (0.11 Earths)\n 3                Moons:            2 (Phobos & Deimos)\n 4       Orbit Distance:       227,943,824 km (1.38 AU)\n 5         Orbit Period:           687 days (1.9 years)\n 6  Surface Temperature:                   -87 to -5 °C\n 7         First Record:              2nd millennium BC\n 8          Recorded By:           Egyptian astronomers,\n   Mars - Earth Comparison             Mars            Earth\n 0               Diameter:         6,779 km        12,742 km\n 1                   Mass:  6.39 × 10^23 kg  5.97 × 10^24 kg\n 2                  Moons:                2                1\n 3      Distance from Sun:   227,943,824 km   149,598,262 km\n 4         Length of Year:   687 Earth days      365.24 days\n 5            Temperature:     -87 to -5 °C      -88 to 58°C,\n                       0                              1\n 0  Equatorial Diameter:                       6,792 km\n 1       Polar Diameter:                       6,752 km\n 2                 Mass:  6.39 × 10^23 kg (0.11 Earths)\n 3                Moons:            2 (Phobos & Deimos)\n 4       Orbit Distance:       227,943,824 km (1.38 AU)\n 5         Orbit Period:           687 days (1.9 years)\n 6  Surface Temperature:                   -87 to -5 °C\n 7         First Record:              2nd millennium BC\n 8          Recorded By:           Egyptian astronomers]"
     },
     "metadata": {},
     "execution_count": 142
    }
   ],
   "source": [
    "url_table = 'https://space-facts.com/mars/'\n",
    "tables = pd.read_html(url_table)\n",
    "tables"
   ]
  },
  {
   "cell_type": "code",
   "execution_count": 146,
   "metadata": {},
   "outputs": [
    {
     "output_type": "execute_result",
     "data": {
      "text/plain": "                      0                              1\n0  Equatorial Diameter:                       6,792 km\n1       Polar Diameter:                       6,752 km\n2                 Mass:  6.39 × 10^23 kg (0.11 Earths)\n3                Moons:            2 (Phobos & Deimos)\n4       Orbit Distance:       227,943,824 km (1.38 AU)\n5         Orbit Period:           687 days (1.9 years)\n6  Surface Temperature:                   -87 to -5 °C\n7         First Record:              2nd millennium BC\n8          Recorded By:           Egyptian astronomers",
      "text/html": "<div>\n<style scoped>\n    .dataframe tbody tr th:only-of-type {\n        vertical-align: middle;\n    }\n\n    .dataframe tbody tr th {\n        vertical-align: top;\n    }\n\n    .dataframe thead th {\n        text-align: right;\n    }\n</style>\n<table border=\"1\" class=\"dataframe\">\n  <thead>\n    <tr style=\"text-align: right;\">\n      <th></th>\n      <th>0</th>\n      <th>1</th>\n    </tr>\n  </thead>\n  <tbody>\n    <tr>\n      <th>0</th>\n      <td>Equatorial Diameter:</td>\n      <td>6,792 km</td>\n    </tr>\n    <tr>\n      <th>1</th>\n      <td>Polar Diameter:</td>\n      <td>6,752 km</td>\n    </tr>\n    <tr>\n      <th>2</th>\n      <td>Mass:</td>\n      <td>6.39 × 10^23 kg (0.11 Earths)</td>\n    </tr>\n    <tr>\n      <th>3</th>\n      <td>Moons:</td>\n      <td>2 (Phobos &amp; Deimos)</td>\n    </tr>\n    <tr>\n      <th>4</th>\n      <td>Orbit Distance:</td>\n      <td>227,943,824 km (1.38 AU)</td>\n    </tr>\n    <tr>\n      <th>5</th>\n      <td>Orbit Period:</td>\n      <td>687 days (1.9 years)</td>\n    </tr>\n    <tr>\n      <th>6</th>\n      <td>Surface Temperature:</td>\n      <td>-87 to -5 °C</td>\n    </tr>\n    <tr>\n      <th>7</th>\n      <td>First Record:</td>\n      <td>2nd millennium BC</td>\n    </tr>\n    <tr>\n      <th>8</th>\n      <td>Recorded By:</td>\n      <td>Egyptian astronomers</td>\n    </tr>\n  </tbody>\n</table>\n</div>"
     },
     "metadata": {},
     "execution_count": 146
    }
   ],
   "source": [
    "mars_facts = tables[0]\n",
    "mars_facts"
   ]
  },
  {
   "cell_type": "code",
   "execution_count": 148,
   "metadata": {},
   "outputs": [
    {
     "output_type": "execute_result",
     "data": {
      "text/plain": "'<table border=\"1\" class=\"dataframe\">\\n  <thead>\\n    <tr style=\"text-align: right;\">\\n      <th></th>\\n      <th>0</th>\\n      <th>1</th>\\n    </tr>\\n  </thead>\\n  <tbody>\\n    <tr>\\n      <th>0</th>\\n      <td>Equatorial Diameter:</td>\\n      <td>6,792 km</td>\\n    </tr>\\n    <tr>\\n      <th>1</th>\\n      <td>Polar Diameter:</td>\\n      <td>6,752 km</td>\\n    </tr>\\n    <tr>\\n      <th>2</th>\\n      <td>Mass:</td>\\n      <td>6.39 × 10^23 kg (0.11 Earths)</td>\\n    </tr>\\n    <tr>\\n      <th>3</th>\\n      <td>Moons:</td>\\n      <td>2 (Phobos &amp; Deimos)</td>\\n    </tr>\\n    <tr>\\n      <th>4</th>\\n      <td>Orbit Distance:</td>\\n      <td>227,943,824 km (1.38 AU)</td>\\n    </tr>\\n    <tr>\\n      <th>5</th>\\n      <td>Orbit Period:</td>\\n      <td>687 days (1.9 years)</td>\\n    </tr>\\n    <tr>\\n      <th>6</th>\\n      <td>Surface Temperature:</td>\\n      <td>-87 to -5 °C</td>\\n    </tr>\\n    <tr>\\n      <th>7</th>\\n      <td>First Record:</td>\\n      <td>2nd millennium BC</td>\\n    </tr>\\n    <tr>\\n      <th>8</th>\\n      <td>Recorded By:</td>\\n      <td>Egyptian astronomers</td>\\n    </tr>\\n  </tbody>\\n</table>'"
     },
     "metadata": {},
     "execution_count": 148
    }
   ],
   "source": [
    "html_table = mars_facts.to_html()\n",
    "html_table.replace('\\n', '')\n",
    "html_table"
   ]
  },
  {
   "cell_type": "code",
   "execution_count": 149,
   "metadata": {},
   "outputs": [],
   "source": [
    "mars_facts.to_html('table.html')"
   ]
  },
  {
   "cell_type": "code",
   "execution_count": 257,
   "metadata": {},
   "outputs": [],
   "source": [
    "conn = 'mongodb://localhost:27017'\n",
    "client = pymongo.MongoClient(conn)"
   ]
  },
  {
   "cell_type": "code",
   "execution_count": 258,
   "metadata": {},
   "outputs": [],
   "source": [
    "db = client.mars_db\n",
    "collection = db.images"
   ]
  },
  {
   "cell_type": "code",
   "execution_count": 259,
   "metadata": {},
   "outputs": [],
   "source": [
    "astr_url = 'https://astrogeology.usgs.gov/search/results?q=hemisphere+enhanced&k1=target&v1=Mars'\n",
    "browser.visit(astr_url)\n",
    "html = browser.html\n",
    "soup = bs(html, \"html.parser\")"
   ]
  },
  {
   "cell_type": "code",
   "execution_count": 260,
   "metadata": {
    "tags": []
   },
   "outputs": [
    {
     "output_type": "error",
     "ename": "ServerSelectionTimeoutError",
     "evalue": "localhost:27017: [Errno 61] Connection refused, Timeout: 30s, Topology Description: <TopologyDescription id: 5f4ba480bfec50685c965bf4, topology_type: Single, servers: [<ServerDescription ('localhost', 27017) server_type: Unknown, rtt: None, error=AutoReconnect('localhost:27017: [Errno 61] Connection refused')>]>",
     "traceback": [
      "\u001b[0;31m---------------------------------------------------------------------------\u001b[0m",
      "\u001b[0;31mServerSelectionTimeoutError\u001b[0m               Traceback (most recent call last)",
      "\u001b[0;32m<ipython-input-260-017b3a3fd757>\u001b[0m in \u001b[0;36m<module>\u001b[0;34m\u001b[0m\n\u001b[1;32m     19\u001b[0m     }\n\u001b[1;32m     20\u001b[0m \u001b[0;34m\u001b[0m\u001b[0m\n\u001b[0;32m---> 21\u001b[0;31m  \u001b[0mcollection\u001b[0m\u001b[0;34m.\u001b[0m\u001b[0minsert_one\u001b[0m\u001b[0;34m(\u001b[0m\u001b[0mhemisphere_image_urls\u001b[0m\u001b[0;34m)\u001b[0m\u001b[0;34m\u001b[0m\u001b[0;34m\u001b[0m\u001b[0m\n\u001b[0m\u001b[1;32m     22\u001b[0m \u001b[0;34m\u001b[0m\u001b[0m\n",
      "\u001b[0;32m~/anaconda3/lib/python3.7/site-packages/pymongo/collection.py\u001b[0m in \u001b[0;36minsert_one\u001b[0;34m(self, document, bypass_document_validation, session)\u001b[0m\n\u001b[1;32m    699\u001b[0m                          \u001b[0mwrite_concern\u001b[0m\u001b[0;34m=\u001b[0m\u001b[0mwrite_concern\u001b[0m\u001b[0;34m,\u001b[0m\u001b[0;34m\u001b[0m\u001b[0;34m\u001b[0m\u001b[0m\n\u001b[1;32m    700\u001b[0m                          \u001b[0mbypass_doc_val\u001b[0m\u001b[0;34m=\u001b[0m\u001b[0mbypass_document_validation\u001b[0m\u001b[0;34m,\u001b[0m\u001b[0;34m\u001b[0m\u001b[0;34m\u001b[0m\u001b[0m\n\u001b[0;32m--> 701\u001b[0;31m                          session=session),\n\u001b[0m\u001b[1;32m    702\u001b[0m             write_concern.acknowledged)\n\u001b[1;32m    703\u001b[0m \u001b[0;34m\u001b[0m\u001b[0m\n",
      "\u001b[0;32m~/anaconda3/lib/python3.7/site-packages/pymongo/collection.py\u001b[0m in \u001b[0;36m_insert\u001b[0;34m(self, docs, ordered, check_keys, manipulate, write_concern, op_id, bypass_doc_val, session)\u001b[0m\n\u001b[1;32m    613\u001b[0m             return self._insert_one(\n\u001b[1;32m    614\u001b[0m                 \u001b[0mdocs\u001b[0m\u001b[0;34m,\u001b[0m \u001b[0mordered\u001b[0m\u001b[0;34m,\u001b[0m \u001b[0mcheck_keys\u001b[0m\u001b[0;34m,\u001b[0m \u001b[0mmanipulate\u001b[0m\u001b[0;34m,\u001b[0m \u001b[0mwrite_concern\u001b[0m\u001b[0;34m,\u001b[0m \u001b[0mop_id\u001b[0m\u001b[0;34m,\u001b[0m\u001b[0;34m\u001b[0m\u001b[0;34m\u001b[0m\u001b[0m\n\u001b[0;32m--> 615\u001b[0;31m                 bypass_doc_val, session)\n\u001b[0m\u001b[1;32m    616\u001b[0m \u001b[0;34m\u001b[0m\u001b[0m\n\u001b[1;32m    617\u001b[0m         \u001b[0mids\u001b[0m \u001b[0;34m=\u001b[0m \u001b[0;34m[\u001b[0m\u001b[0;34m]\u001b[0m\u001b[0;34m\u001b[0m\u001b[0;34m\u001b[0m\u001b[0m\n",
      "\u001b[0;32m~/anaconda3/lib/python3.7/site-packages/pymongo/collection.py\u001b[0m in \u001b[0;36m_insert_one\u001b[0;34m(self, doc, ordered, check_keys, manipulate, write_concern, op_id, bypass_doc_val, session)\u001b[0m\n\u001b[1;32m    601\u001b[0m \u001b[0;34m\u001b[0m\u001b[0m\n\u001b[1;32m    602\u001b[0m         self.__database.client._retryable_write(\n\u001b[0;32m--> 603\u001b[0;31m             acknowledged, _insert_command, session)\n\u001b[0m\u001b[1;32m    604\u001b[0m \u001b[0;34m\u001b[0m\u001b[0m\n\u001b[1;32m    605\u001b[0m         \u001b[0;32mif\u001b[0m \u001b[0;32mnot\u001b[0m \u001b[0misinstance\u001b[0m\u001b[0;34m(\u001b[0m\u001b[0mdoc\u001b[0m\u001b[0;34m,\u001b[0m \u001b[0mRawBSONDocument\u001b[0m\u001b[0;34m)\u001b[0m\u001b[0;34m:\u001b[0m\u001b[0;34m\u001b[0m\u001b[0;34m\u001b[0m\u001b[0m\n",
      "\u001b[0;32m~/anaconda3/lib/python3.7/site-packages/pymongo/mongo_client.py\u001b[0m in \u001b[0;36m_retryable_write\u001b[0;34m(self, retryable, func, session)\u001b[0m\n\u001b[1;32m   1495\u001b[0m     \u001b[0;32mdef\u001b[0m \u001b[0m_retryable_write\u001b[0m\u001b[0;34m(\u001b[0m\u001b[0mself\u001b[0m\u001b[0;34m,\u001b[0m \u001b[0mretryable\u001b[0m\u001b[0;34m,\u001b[0m \u001b[0mfunc\u001b[0m\u001b[0;34m,\u001b[0m \u001b[0msession\u001b[0m\u001b[0;34m)\u001b[0m\u001b[0;34m:\u001b[0m\u001b[0;34m\u001b[0m\u001b[0;34m\u001b[0m\u001b[0m\n\u001b[1;32m   1496\u001b[0m         \u001b[0;34m\"\"\"Internal retryable write helper.\"\"\"\u001b[0m\u001b[0;34m\u001b[0m\u001b[0;34m\u001b[0m\u001b[0m\n\u001b[0;32m-> 1497\u001b[0;31m         \u001b[0;32mwith\u001b[0m \u001b[0mself\u001b[0m\u001b[0;34m.\u001b[0m\u001b[0m_tmp_session\u001b[0m\u001b[0;34m(\u001b[0m\u001b[0msession\u001b[0m\u001b[0;34m)\u001b[0m \u001b[0;32mas\u001b[0m \u001b[0ms\u001b[0m\u001b[0;34m:\u001b[0m\u001b[0;34m\u001b[0m\u001b[0;34m\u001b[0m\u001b[0m\n\u001b[0m\u001b[1;32m   1498\u001b[0m             \u001b[0;32mreturn\u001b[0m \u001b[0mself\u001b[0m\u001b[0;34m.\u001b[0m\u001b[0m_retry_with_session\u001b[0m\u001b[0;34m(\u001b[0m\u001b[0mretryable\u001b[0m\u001b[0;34m,\u001b[0m \u001b[0mfunc\u001b[0m\u001b[0;34m,\u001b[0m \u001b[0ms\u001b[0m\u001b[0;34m,\u001b[0m \u001b[0;32mNone\u001b[0m\u001b[0;34m)\u001b[0m\u001b[0;34m\u001b[0m\u001b[0;34m\u001b[0m\u001b[0m\n\u001b[1;32m   1499\u001b[0m \u001b[0;34m\u001b[0m\u001b[0m\n",
      "\u001b[0;32m~/anaconda3/lib/python3.7/contextlib.py\u001b[0m in \u001b[0;36m__enter__\u001b[0;34m(self)\u001b[0m\n\u001b[1;32m    110\u001b[0m         \u001b[0;32mdel\u001b[0m \u001b[0mself\u001b[0m\u001b[0;34m.\u001b[0m\u001b[0margs\u001b[0m\u001b[0;34m,\u001b[0m \u001b[0mself\u001b[0m\u001b[0;34m.\u001b[0m\u001b[0mkwds\u001b[0m\u001b[0;34m,\u001b[0m \u001b[0mself\u001b[0m\u001b[0;34m.\u001b[0m\u001b[0mfunc\u001b[0m\u001b[0;34m\u001b[0m\u001b[0;34m\u001b[0m\u001b[0m\n\u001b[1;32m    111\u001b[0m         \u001b[0;32mtry\u001b[0m\u001b[0;34m:\u001b[0m\u001b[0;34m\u001b[0m\u001b[0;34m\u001b[0m\u001b[0m\n\u001b[0;32m--> 112\u001b[0;31m             \u001b[0;32mreturn\u001b[0m \u001b[0mnext\u001b[0m\u001b[0;34m(\u001b[0m\u001b[0mself\u001b[0m\u001b[0;34m.\u001b[0m\u001b[0mgen\u001b[0m\u001b[0;34m)\u001b[0m\u001b[0;34m\u001b[0m\u001b[0;34m\u001b[0m\u001b[0m\n\u001b[0m\u001b[1;32m    113\u001b[0m         \u001b[0;32mexcept\u001b[0m \u001b[0mStopIteration\u001b[0m\u001b[0;34m:\u001b[0m\u001b[0;34m\u001b[0m\u001b[0;34m\u001b[0m\u001b[0m\n\u001b[1;32m    114\u001b[0m             \u001b[0;32mraise\u001b[0m \u001b[0mRuntimeError\u001b[0m\u001b[0;34m(\u001b[0m\u001b[0;34m\"generator didn't yield\"\u001b[0m\u001b[0;34m)\u001b[0m \u001b[0;32mfrom\u001b[0m \u001b[0;32mNone\u001b[0m\u001b[0;34m\u001b[0m\u001b[0;34m\u001b[0m\u001b[0m\n",
      "\u001b[0;32m~/anaconda3/lib/python3.7/site-packages/pymongo/mongo_client.py\u001b[0m in \u001b[0;36m_tmp_session\u001b[0;34m(self, session, close)\u001b[0m\n\u001b[1;32m   1827\u001b[0m             \u001b[0;32mreturn\u001b[0m\u001b[0;34m\u001b[0m\u001b[0;34m\u001b[0m\u001b[0m\n\u001b[1;32m   1828\u001b[0m \u001b[0;34m\u001b[0m\u001b[0m\n\u001b[0;32m-> 1829\u001b[0;31m         \u001b[0ms\u001b[0m \u001b[0;34m=\u001b[0m \u001b[0mself\u001b[0m\u001b[0;34m.\u001b[0m\u001b[0m_ensure_session\u001b[0m\u001b[0;34m(\u001b[0m\u001b[0msession\u001b[0m\u001b[0;34m)\u001b[0m\u001b[0;34m\u001b[0m\u001b[0;34m\u001b[0m\u001b[0m\n\u001b[0m\u001b[1;32m   1830\u001b[0m         \u001b[0;32mif\u001b[0m \u001b[0ms\u001b[0m \u001b[0;32mand\u001b[0m \u001b[0mclose\u001b[0m\u001b[0;34m:\u001b[0m\u001b[0;34m\u001b[0m\u001b[0;34m\u001b[0m\u001b[0m\n\u001b[1;32m   1831\u001b[0m             \u001b[0;32mwith\u001b[0m \u001b[0ms\u001b[0m\u001b[0;34m:\u001b[0m\u001b[0;34m\u001b[0m\u001b[0;34m\u001b[0m\u001b[0m\n",
      "\u001b[0;32m~/anaconda3/lib/python3.7/site-packages/pymongo/mongo_client.py\u001b[0m in \u001b[0;36m_ensure_session\u001b[0;34m(self, session)\u001b[0m\n\u001b[1;32m   1814\u001b[0m             \u001b[0;31m# Don't make implicit sessions causally consistent. Applications\u001b[0m\u001b[0;34m\u001b[0m\u001b[0;34m\u001b[0m\u001b[0;34m\u001b[0m\u001b[0m\n\u001b[1;32m   1815\u001b[0m             \u001b[0;31m# should always opt-in.\u001b[0m\u001b[0;34m\u001b[0m\u001b[0;34m\u001b[0m\u001b[0;34m\u001b[0m\u001b[0m\n\u001b[0;32m-> 1816\u001b[0;31m             \u001b[0;32mreturn\u001b[0m \u001b[0mself\u001b[0m\u001b[0;34m.\u001b[0m\u001b[0m__start_session\u001b[0m\u001b[0;34m(\u001b[0m\u001b[0;32mTrue\u001b[0m\u001b[0;34m,\u001b[0m \u001b[0mcausal_consistency\u001b[0m\u001b[0;34m=\u001b[0m\u001b[0;32mFalse\u001b[0m\u001b[0;34m)\u001b[0m\u001b[0;34m\u001b[0m\u001b[0;34m\u001b[0m\u001b[0m\n\u001b[0m\u001b[1;32m   1817\u001b[0m         \u001b[0;32mexcept\u001b[0m \u001b[0;34m(\u001b[0m\u001b[0mConfigurationError\u001b[0m\u001b[0;34m,\u001b[0m \u001b[0mInvalidOperation\u001b[0m\u001b[0;34m)\u001b[0m\u001b[0;34m:\u001b[0m\u001b[0;34m\u001b[0m\u001b[0;34m\u001b[0m\u001b[0m\n\u001b[1;32m   1818\u001b[0m             \u001b[0;31m# Sessions not supported, or multiple users authenticated.\u001b[0m\u001b[0;34m\u001b[0m\u001b[0;34m\u001b[0m\u001b[0;34m\u001b[0m\u001b[0m\n",
      "\u001b[0;32m~/anaconda3/lib/python3.7/site-packages/pymongo/mongo_client.py\u001b[0m in \u001b[0;36m__start_session\u001b[0;34m(self, implicit, **kwargs)\u001b[0m\n\u001b[1;32m   1764\u001b[0m \u001b[0;34m\u001b[0m\u001b[0m\n\u001b[1;32m   1765\u001b[0m         \u001b[0;31m# Raises ConfigurationError if sessions are not supported.\u001b[0m\u001b[0;34m\u001b[0m\u001b[0;34m\u001b[0m\u001b[0;34m\u001b[0m\u001b[0m\n\u001b[0;32m-> 1766\u001b[0;31m         \u001b[0mserver_session\u001b[0m \u001b[0;34m=\u001b[0m \u001b[0mself\u001b[0m\u001b[0;34m.\u001b[0m\u001b[0m_get_server_session\u001b[0m\u001b[0;34m(\u001b[0m\u001b[0;34m)\u001b[0m\u001b[0;34m\u001b[0m\u001b[0;34m\u001b[0m\u001b[0m\n\u001b[0m\u001b[1;32m   1767\u001b[0m         \u001b[0mopts\u001b[0m \u001b[0;34m=\u001b[0m \u001b[0mclient_session\u001b[0m\u001b[0;34m.\u001b[0m\u001b[0mSessionOptions\u001b[0m\u001b[0;34m(\u001b[0m\u001b[0;34m**\u001b[0m\u001b[0mkwargs\u001b[0m\u001b[0;34m)\u001b[0m\u001b[0;34m\u001b[0m\u001b[0;34m\u001b[0m\u001b[0m\n\u001b[1;32m   1768\u001b[0m         return client_session.ClientSession(\n",
      "\u001b[0;32m~/anaconda3/lib/python3.7/site-packages/pymongo/mongo_client.py\u001b[0m in \u001b[0;36m_get_server_session\u001b[0;34m(self)\u001b[0m\n\u001b[1;32m   1800\u001b[0m     \u001b[0;32mdef\u001b[0m \u001b[0m_get_server_session\u001b[0m\u001b[0;34m(\u001b[0m\u001b[0mself\u001b[0m\u001b[0;34m)\u001b[0m\u001b[0;34m:\u001b[0m\u001b[0;34m\u001b[0m\u001b[0;34m\u001b[0m\u001b[0m\n\u001b[1;32m   1801\u001b[0m         \u001b[0;34m\"\"\"Internal: start or resume a _ServerSession.\"\"\"\u001b[0m\u001b[0;34m\u001b[0m\u001b[0;34m\u001b[0m\u001b[0m\n\u001b[0;32m-> 1802\u001b[0;31m         \u001b[0;32mreturn\u001b[0m \u001b[0mself\u001b[0m\u001b[0;34m.\u001b[0m\u001b[0m_topology\u001b[0m\u001b[0;34m.\u001b[0m\u001b[0mget_server_session\u001b[0m\u001b[0;34m(\u001b[0m\u001b[0;34m)\u001b[0m\u001b[0;34m\u001b[0m\u001b[0;34m\u001b[0m\u001b[0m\n\u001b[0m\u001b[1;32m   1803\u001b[0m \u001b[0;34m\u001b[0m\u001b[0m\n\u001b[1;32m   1804\u001b[0m     \u001b[0;32mdef\u001b[0m \u001b[0m_return_server_session\u001b[0m\u001b[0;34m(\u001b[0m\u001b[0mself\u001b[0m\u001b[0;34m,\u001b[0m \u001b[0mserver_session\u001b[0m\u001b[0;34m,\u001b[0m \u001b[0mlock\u001b[0m\u001b[0;34m)\u001b[0m\u001b[0;34m:\u001b[0m\u001b[0;34m\u001b[0m\u001b[0;34m\u001b[0m\u001b[0m\n",
      "\u001b[0;32m~/anaconda3/lib/python3.7/site-packages/pymongo/topology.py\u001b[0m in \u001b[0;36mget_server_session\u001b[0;34m(self)\u001b[0m\n\u001b[1;32m    486\u001b[0m                             \u001b[0many_server_selector\u001b[0m\u001b[0;34m,\u001b[0m\u001b[0;34m\u001b[0m\u001b[0;34m\u001b[0m\u001b[0m\n\u001b[1;32m    487\u001b[0m                             \u001b[0mself\u001b[0m\u001b[0;34m.\u001b[0m\u001b[0m_settings\u001b[0m\u001b[0;34m.\u001b[0m\u001b[0mserver_selection_timeout\u001b[0m\u001b[0;34m,\u001b[0m\u001b[0;34m\u001b[0m\u001b[0;34m\u001b[0m\u001b[0m\n\u001b[0;32m--> 488\u001b[0;31m                             None)\n\u001b[0m\u001b[1;32m    489\u001b[0m                 \u001b[0;32melif\u001b[0m \u001b[0;32mnot\u001b[0m \u001b[0mself\u001b[0m\u001b[0;34m.\u001b[0m\u001b[0m_description\u001b[0m\u001b[0;34m.\u001b[0m\u001b[0mreadable_servers\u001b[0m\u001b[0;34m:\u001b[0m\u001b[0;34m\u001b[0m\u001b[0;34m\u001b[0m\u001b[0m\n\u001b[1;32m    490\u001b[0m                     self._select_servers_loop(\n",
      "\u001b[0;32m~/anaconda3/lib/python3.7/site-packages/pymongo/topology.py\u001b[0m in \u001b[0;36m_select_servers_loop\u001b[0;34m(self, selector, timeout, address)\u001b[0m\n\u001b[1;32m    215\u001b[0m                 raise ServerSelectionTimeoutError(\n\u001b[1;32m    216\u001b[0m                     \u001b[0;34m\"%s, Timeout: %ss, Topology Description: %r\"\u001b[0m \u001b[0;34m%\u001b[0m\u001b[0;34m\u001b[0m\u001b[0;34m\u001b[0m\u001b[0m\n\u001b[0;32m--> 217\u001b[0;31m                     (self._error_message(selector), timeout, self.description))\n\u001b[0m\u001b[1;32m    218\u001b[0m \u001b[0;34m\u001b[0m\u001b[0m\n\u001b[1;32m    219\u001b[0m             \u001b[0mself\u001b[0m\u001b[0;34m.\u001b[0m\u001b[0m_ensure_opened\u001b[0m\u001b[0;34m(\u001b[0m\u001b[0;34m)\u001b[0m\u001b[0;34m\u001b[0m\u001b[0;34m\u001b[0m\u001b[0m\n",
      "\u001b[0;31mServerSelectionTimeoutError\u001b[0m: localhost:27017: [Errno 61] Connection refused, Timeout: 30s, Topology Description: <TopologyDescription id: 5f4ba480bfec50685c965bf4, topology_type: Single, servers: [<ServerDescription ('localhost', 27017) server_type: Unknown, rtt: None, error=AutoReconnect('localhost:27017: [Errno 61] Connection refused')>]>"
     ]
    }
   ],
   "source": [
    "x = soup.find_all('h3')\n",
    "y = soup.find_all(class_='description')\n",
    "mars_url_base = 'https://astrogeology.usgs.gov'\n",
    "\n",
    "for i in range(0, 4):\n",
    " title = x[i].text\n",
    " img_url = mars_url_base + y[i].a['href']\n",
    " browser.visit(img_url)\n",
    " html = browser.html\n",
    " soup = bs(html, \"html.parser\") \n",
    " image_path = soup.find('li').a['href']\n",
    " browser.visit(astr_url)\n",
    " html = browser.html\n",
    " soup = bs(html, \"html.parser\")\n",
    " \n",
    " hemisphere_image_urls = {\n",
    "        'title': title,\n",
    "        'img_url': image_path,\n",
    "    }\n",
    "    \n",
    " collection.insert_one(hemisphere_image_urls)\n",
    " \n"
   ]
  },
  {
   "cell_type": "code",
   "execution_count": null,
   "metadata": {},
   "outputs": [],
   "source": [
    "# browser.find_by_text('Sample').click()\n",
    "# # time.sleep(1)\n",
    "# browser.windows.current\n",
    "# html = browser.html\n",
    "# soup = bs(html, \"html.parser\")\n",
    "collection\n"
   ]
  },
  {
   "cell_type": "code",
   "execution_count": 241,
   "metadata": {},
   "outputs": [],
   "source": [
    "\n",
    "https://astropedia.astrogeology.usgs.gov/search/map/Mars/Viking/cerberus_enhanced\n",
    "https://astrogeology.usgs.gov/search/map/Mars/Viking/cerberus_enhanced"
   ]
  },
  {
   "cell_type": "code",
   "execution_count": null,
   "metadata": {},
   "outputs": [],
   "source": []
  }
 ],
 "metadata": {
  "kernelspec": {
   "display_name": "Python 3",
   "language": "python",
   "name": "python3"
  },
  "language_info": {
   "codemirror_mode": {
    "name": "ipython",
    "version": 3
   },
   "file_extension": ".py",
   "mimetype": "text/x-python",
   "name": "python",
   "nbconvert_exporter": "python",
   "pygments_lexer": "ipython3",
   "version": "3.7.6-final"
  }
 },
 "nbformat": 4,
 "nbformat_minor": 4
}